{
  "cells": [
    {
      "cell_type": "code",
      "execution_count": 1,
      "metadata": {
        "id": "JSE1GGPIWZ7O"
      },
      "outputs": [],
      "source": [
        "import tensorflow as tf"
      ]
    },
    {
      "cell_type": "code",
      "execution_count": 19,
      "metadata": {
        "colab": {
          "base_uri": "https://localhost:8080/",
          "height": 88
        },
        "id": "YIjObkdDaK12",
        "outputId": "d31282d0-0cc3-4ac7-8728-d1bf87705fab"
      },
      "outputs": [
        {
          "name": "stdout",
          "output_type": "stream",
          "text": [
            "Drive already mounted at /content/drive; to attempt to forcibly remount, call drive.mount(\"/content/drive\", force_remount=True).\n",
            "Num GPUs Available:  1\n",
            "[LogicalDevice(name='/device:GPU:0', device_type='GPU')]\n"
          ]
        }
      ],
      "source": [
        "from google.colab import drive\n",
        "drive.mount('/content/drive')\n",
        "\n",
        "\n",
        "print(\"Num GPUs Available: \", len(tf.config.experimental.list_physical_devices('GPU')))\n",
        "\n",
        "print(tf.config.experimental.list_logical_devices('GPU'))"
      ]
    },
    {
      "cell_type": "markdown",
      "metadata": {
        "id": "TjBuA3YNHmuL"
      },
      "source": [
        "# Model Defination"
      ]
    },
    {
      "cell_type": "markdown",
      "metadata": {
        "id": "cymQbL2a3POv"
      },
      "source": [
        "## Layer Defination"
      ]
    },
    {
      "cell_type": "code",
      "execution_count": 3,
      "metadata": {
        "id": "RdgmpgpVdOSx"
      },
      "outputs": [],
      "source": [
        "class Encoder(tf.keras.layers.Layer):\n",
        "  def __init__(self, filters):\n",
        "    super(Encoder, self).__init__()\n",
        "    \n",
        "    self.sep1 = tf.keras.layers.SeparableConv2D(int(filters / 4), [5,5], strides=[1,1], padding='same', activation='relu')\n",
        "    self.sep2 = tf.keras.layers.SeparableConv2D(filters, [5,5], strides=[1,1], padding='same')\n",
        "\n",
        "  def call(self, input):\n",
        "    output = self.sep1(input)\n",
        "    output = self.sep2(output)\n",
        "\n",
        "    return output + input\n",
        "\n",
        "class Downsample(tf.keras.layers.Layer):\n",
        "  def __init__(self, filters):\n",
        "    super(Downsample, self).__init__()\n",
        "\n",
        "    self.sep1 = tf.keras.layers.SeparableConv2D(int(filters / 4), [5,5], strides=[2,2], padding='same', activation='relu')\n",
        "    self.sep2 = tf.keras.layers.SeparableConv2D(filters, [5,5], strides=[1,1], padding='same')\n",
        "    self.sep3 = tf.keras.layers.SeparableConv2D(filters, [3,3], strides=[2,2], padding='same')\n",
        "  \n",
        "  def call(self, input):\n",
        "    out1 = self.sep1(input)\n",
        "    out1 = self.sep2(out1)\n",
        "\n",
        "    out2 = self.sep3(input)\n",
        "    \n",
        "    return out1 + out2\n",
        "\n",
        "class Decoder(tf.keras.layers.Layer):\n",
        "  def __init__(self, filters):\n",
        "    super(Decoder, self).__init__()\n",
        "\n",
        "    self.sep1 = tf.keras.layers.SeparableConv2D(filters, [3,3], strides=[1,1], padding='same', activation='relu')\n",
        "    self.sep2 = tf.keras.layers.SeparableConv2D(filters, [3,3], strides=[1,1], padding='same')\n",
        "\n",
        "  def call (self, input):\n",
        "    out1 = self.sep1(input)\n",
        "    out1 = self.sep2(out1)\n",
        "\n",
        "    return out1 + input\n",
        "\n",
        "class Upsample(tf.keras.layers.Layer):\n",
        "  def __init__(self, filters):\n",
        "    super(Upsample, self).__init__()\n",
        "    self.deconv = tf.keras.layers.Conv2DTranspose(filters, (3,3), strides=2, padding='same')\n",
        "\n",
        "  def call (self, input):\n",
        "    output = self.deconv(input)\n",
        "\n",
        "    return output  "
      ]
    },
    {
      "cell_type": "markdown",
      "metadata": {
        "id": "uqfW9p6u3VSM"
      },
      "source": [
        "## Model Defination"
      ]
    },
    {
      "cell_type": "code",
      "execution_count": 4,
      "metadata": {
        "id": "4PGAYFQ4ruG6"
      },
      "outputs": [],
      "source": [
        "class DenoiseNetwork(tf.keras.Model):\n",
        "  def __init__(self):\n",
        "    super(DenoiseNetwork, self).__init__()\n",
        "\n",
        "    # Input stage\n",
        "    self.input_stage = tf.keras.layers.Conv2D(16, (3,3), padding=\"same\", input_shape=(160, 120, 1))\n",
        "\n",
        "    # Encoder Stage 1\n",
        "    self.encoder_stage1 = tf.keras.Sequential([\n",
        "        Downsample(64),\n",
        "        Encoder(64)                       \n",
        "    ])\n",
        "\n",
        "    # Encoder Stage 2\n",
        "    self.encoder_stage2 = tf.keras.Sequential([\n",
        "        Downsample(128),\n",
        "        Encoder(128)                       \n",
        "    ])\n",
        "\n",
        "    # Encoder Stage 3\n",
        "    self.encoder_stage3 = tf.keras.Sequential([\n",
        "        Downsample(256),\n",
        "        Encoder(256),\n",
        "        Encoder(256),\n",
        "        Encoder(256)                      \n",
        "    ])\n",
        "\n",
        "    # Encoder Stage 4\n",
        "    self.encoder_stage4 = tf.keras.Sequential([\n",
        "        Downsample(512),\n",
        "        Encoder(512),\n",
        "        Encoder(512),\n",
        "        Encoder(512)                      \n",
        "    ])\n",
        "\n",
        "    # Decoder Stage 1\n",
        "    self.decoder_stage1 = tf.keras.Sequential([\n",
        "        Decoder(512),\n",
        "        Upsample(64)\n",
        "    ])\n",
        "\n",
        "    # Decoder Stage 2\n",
        "    self.decoder_stage2 = tf.keras.Sequential([\n",
        "        Decoder(64),\n",
        "        Upsample(32)\n",
        "    ])\n",
        "    # Decoder Stage 3\n",
        "    self.decoder_stage3 = tf.keras.Sequential([\n",
        "        Decoder(32),\n",
        "        Upsample(32)\n",
        "    ])\n",
        "    # Decoder Stage 4\n",
        "    self.decoder_stage4 = tf.keras.Sequential([\n",
        "        Decoder(32),\n",
        "        Upsample(16)\n",
        "    ])\n",
        "\n",
        "    # Separatable Convolution\n",
        "    self.sep1 = tf.keras.layers.SeparableConv2D(16, (3,3), padding='same')\n",
        "    self.sep2 = tf.keras.layers.SeparableConv2D(32, (3,3), padding='same')\n",
        "    self.sep3 = tf.keras.layers.SeparableConv2D(32, (3,3), padding='same')\n",
        "    self.sep4 = tf.keras.layers.SeparableConv2D(64, (3,3), padding='same')\n",
        "\n",
        "    # Output Stage\n",
        "    self.output_stage = tf.keras.Sequential([\n",
        "        Decoder(16),\n",
        "        tf.keras.layers.Conv2D(1, kernel_size=(3,3), padding='same')\n",
        "    ])\n",
        "\n",
        "  def call(self, input):\n",
        "\n",
        "    out_i = self.input_stage(input)\n",
        "    out_e1 = self.encoder_stage1(out_i)\n",
        "    out_e2 = self.encoder_stage2(out_e1)\n",
        "    out_e3 = self.encoder_stage3(out_e2)\n",
        "    out_e4 = self.encoder_stage4(out_e3)\n",
        "\n",
        "    out_d1 = self.decoder_stage1(out_e4) + self.sep4(out_e3)\n",
        "    out_d2 = self.decoder_stage2(out_d1) + self.sep3(out_e2)\n",
        "    out_d3 = self.decoder_stage3(out_d2) + self.sep2(out_e1)\n",
        "    out_d4 = self.decoder_stage4(out_d3) + self.sep1(out_i)\n",
        "    output = self.output_stage(out_d4) + input\n",
        "\n",
        "    return output"
      ]
    },
    {
      "cell_type": "markdown",
      "metadata": {
        "id": "846HKzeL3Y1b"
      },
      "source": [
        "## Create and Buil Model"
      ]
    },
    {
      "cell_type": "code",
      "execution_count": 5,
      "metadata": {
        "colab": {
          "base_uri": "https://localhost:8080/",
          "height": 34
        },
        "id": "AeNUeRouiarG",
        "outputId": "88e7c08b-045a-4663-fca1-73fc1c9aeb86"
      },
      "outputs": [
        {
          "data": {
            "text/plain": [
              "138"
            ]
          },
          "execution_count": 5,
          "metadata": {
            "tags": []
          },
          "output_type": "execute_result"
        }
      ],
      "source": [
        "model = DenoiseNetwork()\n",
        "model.build((None, 160, 120, 1))\n",
        "len(model.weights)"
      ]
    },
    {
      "cell_type": "markdown",
      "metadata": {
        "id": "SJZIFfhA0AWv"
      },
      "source": [
        "# Loss Function"
      ]
    },
    {
      "cell_type": "code",
      "execution_count": 6,
      "metadata": {
        "id": "HugjCsFnQgb-"
      },
      "outputs": [],
      "source": [
        "def loss_function(y_ground_truth, y_pred):\n",
        "  return tf.reduce_sum(tf.reduce_mean(tf.abs(y_pred - y_ground_truth), axis=0))"
      ]
    },
    {
      "cell_type": "markdown",
      "metadata": {},
      "source": [
        "# Training Steps"
      ]
    },
    {
      "cell_type": "code",
      "execution_count": 7,
      "metadata": {
        "id": "Z_lEFP2oKdG9"
      },
      "outputs": [],
      "source": [
        "# Custom training step\n",
        "def train_step(model, optimizer, clean_img, noisy_img):\n",
        "\n",
        "  variables = model.variables\n",
        "  with tf.GradientTape(watch_accessed_variables=False) as tape:\n",
        "    \n",
        "    tape.watch(variables)\n",
        "    y_pred = model(noisy_img)\n",
        "    loss = loss_function(clean_img, y_pred)\n",
        "\n",
        "  grads = tape.gradient(loss, variables)\n",
        "  optimizer.apply_gradients(zip(grads, variables))\n",
        "\n",
        "  return loss"
      ]
    },
    {
      "cell_type": "code",
      "execution_count": null,
      "metadata": {},
      "outputs": [],
      "source": [
        "import sys\n",
        "\n",
        "# Progress bar function\n",
        "def progress(epoch, batch, total_batches, trained_samples, total_samples, current_loss, avg_loss, learning_rate, bar_length=30, time_elapsed=0, message=\"\"):\n",
        "    # Calculate progress percentage\n",
        "    percent = float(trained_samples) / float(total_samples)\n",
        "    \n",
        "    # Create progress bar\n",
        "    hashes = '#' * int(round(percent * bar_length))\n",
        "    spaces = ' ' * (bar_length - len(hashes))\n",
        "\n",
        "    # Estimate time remaining\n",
        "    if time_elapsed > 0 and percent > 0:\n",
        "        time_per_sample = time_elapsed / trained_samples\n",
        "        remaining_time = time_per_sample * (total_samples - trained_samples)\n",
        "        time_remaining = f\"{int(remaining_time // 60)}m {int(remaining_time % 60)}s\"\n",
        "    else:\n",
        "        time_remaining = \"Calculating...\"\n",
        "\n",
        "    # Progress bar display\n",
        "    sys.stdout.write(\n",
        "        f\"\\rEpoch {epoch} [{batch}/{total_batches}] [{hashes}{spaces}] {int(percent * 100)}% \"\n",
        "        f\"Loss: {current_loss:.4f} / Avg Loss: {avg_loss:.4f} | \"\n",
        "        f\"LR: {learning_rate:.6f} | ETA: {time_remaining} {message}\"\n",
        "    )\n",
        "    sys.stdout.flush()"
      ]
    },
    {
      "cell_type": "code",
      "execution_count": null,
      "metadata": {},
      "outputs": [],
      "source": [
        "import tensorflow as tf\n",
        "import time\n",
        "\n",
        "def fit(model, lr, clean_imgs, noisy_imgs, epochs, validation_data=None, verbose=1):\n",
        "    history = {\n",
        "        'train_loss': [],\n",
        "        'val_loss': [] if validation_data else None\n",
        "    }\n",
        "\n",
        "    # Create optimizer\n",
        "    optimizer = tf.keras.optimizers.Adam(lr)\n",
        "\n",
        "    # Prepare dataset\n",
        "    dataset = tf.data.Dataset.zip((clean_imgs, noisy_imgs))\n",
        "\n",
        "    # Validation dataset (optional)\n",
        "    val_dataset = None\n",
        "    if validation_data:\n",
        "        val_clean_imgs, val_noisy_imgs = validation_data\n",
        "        val_dataset = tf.data.Dataset.zip((val_clean_imgs, val_noisy_imgs))\n",
        "\n",
        "    # Training loop\n",
        "    for e in range(epochs):\n",
        "        total_loss = 0.0\n",
        "        num_batches = 0\n",
        "        start_time = time.time()\n",
        "\n",
        "        # Iterate over batches\n",
        "        for ite, (clean_img_batch, noisy_img_batch) in enumerate(dataset):\n",
        "            batch_start_time = time.time()\n",
        "            loss = train_step(model, optimizer, clean_img_batch, noisy_img_batch)\n",
        "            total_loss += loss\n",
        "            num_batches += 1\n",
        "\n",
        "            avg_loss = total_loss / num_batches\n",
        "            trained_samples = (ite + 1) * clean_img_batch.shape[0]\n",
        "            total_samples = len(clean_imgs)\n",
        "\n",
        "            # Display progress only if verbose is 1\n",
        "            if verbose == 1:\n",
        "                progress(\n",
        "                    epoch=e+1,\n",
        "                    batch=ite+1,\n",
        "                    total_batches=len(dataset),\n",
        "                    trained_samples=trained_samples,\n",
        "                    total_samples=total_samples,\n",
        "                    current_loss=float(loss),\n",
        "                    avg_loss=float(avg_loss),\n",
        "                    learning_rate=optimizer.learning_rate.numpy(),\n",
        "                    bar_length=30,\n",
        "                    time_elapsed=(time.time() - start_time)\n",
        "                )\n",
        "\n",
        "            # Delay to simulate time taken per batch (optional)\n",
        "            time.sleep(0.01)\n",
        "\n",
        "        avg_loss = total_loss / num_batches\n",
        "        history['train_loss'].append(float(avg_loss))\n",
        "\n",
        "        if verbose >= 1:\n",
        "            print(f\"\\nEpoch {e+1}: --- Avg Train Loss: {avg_loss:.4f}\")\n",
        "\n",
        "        # Validation step (if validation data is provided)\n",
        "        if val_dataset:\n",
        "            val_loss = 0.0\n",
        "            val_batches = 0\n",
        "            for val_clean_batch, val_noisy_batch in val_dataset:\n",
        "                y_val_pred = model(val_noisy_batch, training=False)\n",
        "                val_loss += loss_function(val_clean_batch, y_val_pred)\n",
        "                val_batches += 1\n",
        "\n",
        "            avg_val_loss = val_loss / val_batches\n",
        "            history['val_loss'].append(float(avg_val_loss))\n",
        "\n",
        "            if verbose >= 1:\n",
        "                print(f\"Epoch {e+1}: --- Avg Validation Loss: {avg_val_loss:.4f}\")\n",
        "\n",
        "    return history"
      ]
    },
    {
      "cell_type": "markdown",
      "metadata": {
        "id": "lVzy48202S5w"
      },
      "source": [
        "# Load Data"
      ]
    },
    {
      "cell_type": "code",
      "execution_count": null,
      "metadata": {},
      "outputs": [],
      "source": [
        "import zipfile\n",
        "\n",
        "# Mount Google Drive\n",
        "drive.mount('/content/drive')\n",
        "\n",
        "# Define the path to the zip file\n",
        "zip_file_path = '/content/drive/My Drive/Data/FLIR_Thermal_Images_Dataset.zip'\n",
        "# Define the directory to extract the files to\n",
        "extract_dir = '/content/FLIR_Thermal_Images_Dataset'\n",
        "\n",
        "# Unzip the file\n",
        "with zipfile.ZipFile(zip_file_path, 'r') as zip_ref:\n",
        "  zip_ref.extractall(extract_dir)\n",
        "\n",
        "# Define the path for training, validation and test data\n",
        "train_clean_path = '/content/FLIR_Thermal_Images_Dataset/FLIR/Train/Clean'\n",
        "train_noisy_path = '/content/FLIR_Thermal_Images_Dataset/FLIR/Train/Noisy'\n",
        "\n",
        "val_clean_path = '/content/FLIR_Thermal_Images_Dataset/FLIR/Validation/Clean'\n",
        "val_noisy_path = '/content/FLIR_Thermal_Images_Dataset/FLIR/Validation/Noisy'\n",
        "\n",
        "test_clean_path = '/content/FLIR_Thermal_Images_Dataset/FLIR/Test/Clean'\n",
        "test_noisy_path = '/content/FLIR_Thermal_Images_Dataset/FLIR/Test/Noisy'\n",
        "\n",
        "# load the images\n",
        "def load_images(path):\n",
        "  img = tf.io.read_file(path)\n",
        "  img = tf.image.decode_png(img, channels=1)\n",
        "  img = tf.cast(img, tf.float32) / 255.0\n",
        "\n",
        "# Batch size\n",
        "BATCH_SIZE = 8\n",
        "\n",
        "# Create two datasets from images\n",
        "def create_dataset(clean_path, noisy_path, batch_size):\n",
        "  clean_files = tf.data.Dataset.list_files(clean_path + '/*.png', shuffle=False)\n",
        "  noisy_files = tf.data.Dataset.list_files(noisy_path + '/*.png', shuffle=False)\n",
        "\n",
        "  clean_dataset = clean_files.map(lambda x: load_images(x)).batch(batch_size)\n",
        "  noisy_dataset = noisy_files.map(lambda x: load_images(x)).batch(batch_size)\n",
        "\n",
        "  return clean_dataset, noisy_dataset\n",
        "\n",
        "# Create datasets for training, validation and test\n",
        "train_clean_imgs, train_noisy_imgs = create_dataset(train_clean_path, train_noisy_path, BATCH_SIZE)\n",
        "val_clean_imgs, val_noisy_imgs = create_dataset(val_clean_path, val_noisy_path, BATCH_SIZE)\n",
        "test_clean_imgs, test_noisy_imgs = create_dataset(test_clean_path, test_noisy_path, BATCH_SIZE)\n",
        "\n",
        "print(\"Training Clean Images: \", len(train_clean_imgs))\n",
        "print(\"Training Noisy Images: \", len(train_noisy_imgs))\n",
        "print(\"Validation Clean Images: \", len(val_clean_imgs))\n",
        "print(\"Validation Noisy Images: \", len(val_noisy_imgs))\n",
        "print(\"Test Clean Images: \", len(test_clean_imgs))\n",
        "print(\"Test Noisy Images: \", len(test_noisy_imgs))\n"
      ]
    },
    {
      "cell_type": "markdown",
      "metadata": {
        "id": "uBy7ahXB3gFe"
      },
      "source": [
        "## Train with first 30 epochs "
      ]
    },
    {
      "cell_type": "code",
      "execution_count": null,
      "metadata": {
        "colab": {
          "base_uri": "https://localhost:8080/",
          "height": 697
        },
        "id": "z9zH6KwP2Brk",
        "outputId": "1ee23059-64d6-4c95-dad0-48b87ed5daf1"
      },
      "outputs": [
        {
          "name": "stdout",
          "output_type": "stream",
          "text": [
            "Epoch 1: [#########################] 100%  ----- Loss: 6180.927734375\n",
            " Epoch 1: --- Avg Loss: 6680.73388671875\n",
            "Epoch 2: [#########################] 100%  ----- Loss: 6098.9521484375\n",
            " Epoch 2: --- Avg Loss: 4344.837890625\n",
            "Epoch 3: [#########################] 100%  ----- Loss: 6162.5419921875\n",
            " Epoch 3: --- Avg Loss: 4040.492919921875\n",
            "Epoch 4: [#########################] 100%  ----- Loss: 6165.201171875\n",
            " Epoch 4: --- Avg Loss: 3856.072509765625\n",
            "Epoch 5: [#########################] 100%  ----- Loss: 6453.93896484375\n",
            " Epoch 5: --- Avg Loss: 3674.99267578125\n",
            "Epoch 6: [#########################] 100%  ----- Loss: 6257.0380859375\n",
            " Epoch 6: --- Avg Loss: 3601.1455078125\n",
            "Epoch 7: [#########################] 100%  ----- Loss: 5604.1357421875\n",
            " Epoch 7: --- Avg Loss: 3342.703857421875\n",
            "Epoch 8: [#########################] 100%  ----- Loss: 5400.5791015625\n",
            " Epoch 8: --- Avg Loss: 3162.960693359375\n",
            "Epoch 9: [#########################] 100%  ----- Loss: 5147.63134765625\n",
            " Epoch 9: --- Avg Loss: 3018.81103515625\n",
            "Epoch 10: [#########################] 100%  ----- Loss: 4568.04931640625\n",
            " Epoch 10: --- Avg Loss: 2877.83642578125\n",
            "Epoch 11: [#########################] 100%  ----- Loss: 3720.44677734375\n",
            " Epoch 11: --- Avg Loss: 2737.471435546875\n",
            "Epoch 12: [#########################] 100%  ----- Loss: 3133.021240234375\n",
            " Epoch 12: --- Avg Loss: 2654.349609375\n",
            "Epoch 13: [#########################] 100%  ----- Loss: 2649.0712890625\n",
            " Epoch 13: --- Avg Loss: 2570.5673828125\n",
            "Epoch 14: [#########################] 100%  ----- Loss: 2430.510009765625\n",
            " Epoch 14: --- Avg Loss: 2502.602294921875\n",
            "Epoch 15: [#########################] 100%  ----- Loss: 2393.71826171875\n",
            " Epoch 15: --- Avg Loss: 2414.421142578125\n",
            "Epoch 16: [#########################] 100%  ----- Loss: 2557.55224609375\n",
            " Epoch 16: --- Avg Loss: 2406.061767578125\n",
            "Epoch 17: [#########################] 100%  ----- Loss: 2417.47607421875\n",
            " Epoch 17: --- Avg Loss: 2369.104736328125\n",
            "Epoch 18: [#########################] 100%  ----- Loss: 2125.775390625\n",
            " Epoch 18: --- Avg Loss: 2306.947265625\n",
            "Epoch 19: [#########################] 100%  ----- Loss: 2058.5888671875\n",
            " Epoch 19: --- Avg Loss: 2244.503662109375\n",
            "Epoch 20: [#########################] 100%  ----- Loss: 2032.677490234375\n",
            " Epoch 20: --- Avg Loss: 2192.80908203125\n"
          ]
        }
      ],
      "source": [
        "history = fit(\n",
        "    model=model,\n",
        "    lr=1e-3,\n",
        "    clean_imgs=train_clean_imgs,\n",
        "    noisy_imgs=train_noisy_imgs,\n",
        "    epochs=30,\n",
        "    validation_data=(val_clean_imgs, val_noisy_imgs),  # Optional validation data\n",
        "    verbose=1  # Progress bar\n",
        ")"
      ]
    },
    {
      "cell_type": "code",
      "execution_count": null,
      "metadata": {
        "colab": {
          "base_uri": "https://localhost:8080/",
          "height": 609
        },
        "id": "DJ6mTj6n7_uq",
        "outputId": "2c355201-dc4c-4ebd-9b0e-f93c833e55db"
      },
      "outputs": [
        {
          "data": {
            "text/plain": [
              "[<matplotlib.lines.Line2D at 0x7fb5de33df28>]"
            ]
          },
          "execution_count": 126,
          "metadata": {
            "tags": []
          },
          "output_type": "execute_result"
        },
        {
          "data": {
            "image/png": "[encoded data removed]",
            "text/plain": [
              "<Figure size 720x720 with 1 Axes>"
            ]
          },
          "metadata": {
            "needs_background": "light",
            "tags": []
          },
          "output_type": "display_data"
        }
      ],
      "source": [
        "import matplotlib.pyplot as plt\n",
        "\n",
        "def plot_history(history):\n",
        "    epochs = range(1, len(history['train_loss']) + 1)\n",
        "\n",
        "    plt.figure(figsize=(10, 6))\n",
        "\n",
        "    # Plot training loss\n",
        "    plt.plot(epochs, history['train_loss'], 'r-', label='Training Loss', marker='o')\n",
        "\n",
        "    # If validation loss exists, plot it\n",
        "    if 'val_loss' in history:\n",
        "        plt.plot(epochs, history['val_loss'], 'b-', label='Validation Loss', marker='x')\n",
        "\n",
        "    # Add title and labels\n",
        "    plt.title('Training and Validation Loss Over Epochs', fontsize=16)\n",
        "    plt.xlabel('Epochs', fontsize=14)\n",
        "    plt.ylabel('Loss', fontsize=14)\n",
        "\n",
        "    # Add grid for better readability\n",
        "    plt.grid(True)\n",
        "\n",
        "    # Add legend\n",
        "    plt.legend(loc='upper right')\n",
        "\n",
        "    # Show the plot\n",
        "    plt.show()\n",
        "\n",
        "plot_history(history)"
      ]
    },
    {
      "cell_type": "markdown",
      "metadata": {},
      "source": [
        "# Inference"
      ]
    },
    {
      "cell_type": "markdown",
      "metadata": {},
      "source": [
        "# Save Model"
      ]
    },
    {
      "cell_type": "code",
      "execution_count": 11,
      "metadata": {
        "colab": {
          "base_uri": "https://localhost:8080/",
          "height": 34
        },
        "id": "gfuP3yTr2P41",
        "outputId": "a9ada315-10d5-47f4-f092-70b7fc717e84"
      },
      "outputs": [
        {
          "data": {
            "text/plain": [
              "<tensorflow.python.training.tracking.util.CheckpointLoadStatus at 0x7fbe7cc7f630>"
            ]
          },
          "execution_count": 11,
          "metadata": {
            "tags": []
          },
          "output_type": "execute_result"
        }
      ],
      "source": [
        "# Save the entir model as a TensorFlow SavedModel\n",
        "# This will save weights and architecture\n",
        "model.save('/content/drive/My Drive/Models/pmrid')"
      ]
    },
    {
      "cell_type": "markdown",
      "metadata": {},
      "source": [
        "# TensorFlow Lite For Deployment"
      ]
    },
    {
      "cell_type": "code",
      "execution_count": null,
      "metadata": {},
      "outputs": [],
      "source": [
        "# Convert the model to the TensorFlow Lite format without quantization\n",
        "converter = tf.lite.TFLiteConverter.from_saved_model('/content/drive/My Drive/Models/pmrid')\n",
        "tflite_model = converter.convert()\n",
        "\n",
        "# Save the model as a .tflite file\n",
        "with open('/content/drive/My Drive/Models/pmrid.tflite', 'wb') as f:\n",
        "  f.write(tflite_model)"
      ]
    }
  ],
  "metadata": {
    "accelerator": "GPU",
    "colab": {
      "collapsed_sections": [
        "mVLxnCwm679M"
      ],
      "name": "Deep Raw Image Denoising.ipynb",
      "provenance": [],
      "toc_visible": true
    },
    "kernelspec": {
      "display_name": "Python 3",
      "name": "python3"
    }
  },
  "nbformat": 4,
  "nbformat_minor": 0
}
